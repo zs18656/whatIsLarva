{
 "cells": [
  {
   "cell_type": "code",
   "execution_count": 314,
   "id": "a1f7603a",
   "metadata": {},
   "outputs": [],
   "source": [
    "import pandas as pd\n",
    "import numpy as np\n",
    "import torch\n",
    "import torch.nn.functional as F\n",
    "from torch_geometric.nn import GCNConv\n",
    "from torch_geometric.data import DataLoader\n",
    "import random\n",
    "from tqdm import tqdm\n",
    "from sklearn.neural_network import MLPRegressor\n",
    "from sklearn.metrics import mean_squared_error\n",
    "import matplotlib.pyplot as plt"
   ]
  },
  {
   "cell_type": "code",
   "execution_count": 129,
   "id": "2fe0bef1",
   "metadata": {},
   "outputs": [
    {
     "name": "stdout",
     "output_type": "stream",
     "text": [
      "(3600, 4)\n"
     ]
    },
    {
     "data": {
      "text/html": [
       "<div>\n",
       "<style scoped>\n",
       "    .dataframe tbody tr th:only-of-type {\n",
       "        vertical-align: middle;\n",
       "    }\n",
       "\n",
       "    .dataframe tbody tr th {\n",
       "        vertical-align: top;\n",
       "    }\n",
       "\n",
       "    .dataframe thead th {\n",
       "        text-align: right;\n",
       "    }\n",
       "</style>\n",
       "<table border=\"1\" class=\"dataframe\">\n",
       "  <thead>\n",
       "    <tr style=\"text-align: right;\">\n",
       "      <th></th>\n",
       "      <th>Input nodes</th>\n",
       "      <th>Output nodes</th>\n",
       "      <th>Train MSE</th>\n",
       "      <th>Test MSE</th>\n",
       "    </tr>\n",
       "  </thead>\n",
       "  <tbody>\n",
       "    <tr>\n",
       "      <th>0</th>\n",
       "      <td>[2191 1457 1194 1113  130 1725  395 2300  535 ...</td>\n",
       "      <td>[ 303   41  939 2069  992  529 2731 1450 1333 ...</td>\n",
       "      <td>0.005877</td>\n",
       "      <td>0.483325</td>\n",
       "    </tr>\n",
       "    <tr>\n",
       "      <th>1</th>\n",
       "      <td>[2191 1457 1194 1113  130 1725  395 2300  535 ...</td>\n",
       "      <td>[ 562 2810 2338 2858 2546  454 2262 2617  125 ...</td>\n",
       "      <td>0.009230</td>\n",
       "      <td>0.560773</td>\n",
       "    </tr>\n",
       "    <tr>\n",
       "      <th>2</th>\n",
       "      <td>[2191 1457 1194 1113  130 1725  395 2300  535 ...</td>\n",
       "      <td>[ 414 1797 2200 1424  184 2150 2868 2660   92 ...</td>\n",
       "      <td>0.006478</td>\n",
       "      <td>0.419986</td>\n",
       "    </tr>\n",
       "  </tbody>\n",
       "</table>\n",
       "</div>"
      ],
      "text/plain": [
       "                                         Input nodes  \\\n",
       "0  [2191 1457 1194 1113  130 1725  395 2300  535 ...   \n",
       "1  [2191 1457 1194 1113  130 1725  395 2300  535 ...   \n",
       "2  [2191 1457 1194 1113  130 1725  395 2300  535 ...   \n",
       "\n",
       "                                        Output nodes  Train MSE  Test MSE  \n",
       "0  [ 303   41  939 2069  992  529 2731 1450 1333 ...   0.005877  0.483325  \n",
       "1  [ 562 2810 2338 2858 2546  454 2262 2617  125 ...   0.009230  0.560773  \n",
       "2  [ 414 1797 2200 1424  184 2150 2868 2660   92 ...   0.006478  0.419986  "
      ]
     },
     "execution_count": 129,
     "metadata": {},
     "output_type": "execute_result"
    }
   ],
   "source": [
    "df = pd.read_csv('GNN_data/initial_MLP_data2.csv').drop(columns = ['Unnamed: 0'])\n",
    "print(df.shape)\n",
    "df.head(3)"
   ]
  },
  {
   "cell_type": "code",
   "execution_count": 355,
   "id": "54368b25",
   "metadata": {},
   "outputs": [
    {
     "name": "stdout",
     "output_type": "stream",
     "text": [
      "(2952, 7)\n"
     ]
    },
    {
     "data": {
      "text/html": [
       "<div>\n",
       "<style scoped>\n",
       "    .dataframe tbody tr th:only-of-type {\n",
       "        vertical-align: middle;\n",
       "    }\n",
       "\n",
       "    .dataframe tbody tr th {\n",
       "        vertical-align: top;\n",
       "    }\n",
       "\n",
       "    .dataframe thead th {\n",
       "        text-align: right;\n",
       "    }\n",
       "</style>\n",
       "<table border=\"1\" class=\"dataframe\">\n",
       "  <thead>\n",
       "    <tr style=\"text-align: right;\">\n",
       "      <th></th>\n",
       "      <th>Community ID</th>\n",
       "      <th>Degree</th>\n",
       "      <th>Betweeness</th>\n",
       "      <th>Eigenvector</th>\n",
       "      <th>Laplacian</th>\n",
       "      <th>Harmonic</th>\n",
       "      <th>Load</th>\n",
       "    </tr>\n",
       "  </thead>\n",
       "  <tbody>\n",
       "    <tr>\n",
       "      <th>0</th>\n",
       "      <td>7</td>\n",
       "      <td>0.439516</td>\n",
       "      <td>0.012961</td>\n",
       "      <td>0.566034</td>\n",
       "      <td>0.355070</td>\n",
       "      <td>0.757463</td>\n",
       "      <td>0.010790</td>\n",
       "    </tr>\n",
       "    <tr>\n",
       "      <th>1</th>\n",
       "      <td>7</td>\n",
       "      <td>0.447581</td>\n",
       "      <td>0.010856</td>\n",
       "      <td>0.591562</td>\n",
       "      <td>0.367336</td>\n",
       "      <td>0.746456</td>\n",
       "      <td>0.009723</td>\n",
       "    </tr>\n",
       "    <tr>\n",
       "      <th>2</th>\n",
       "      <td>7</td>\n",
       "      <td>0.423387</td>\n",
       "      <td>0.049285</td>\n",
       "      <td>0.372795</td>\n",
       "      <td>0.307128</td>\n",
       "      <td>0.786978</td>\n",
       "      <td>0.049708</td>\n",
       "    </tr>\n",
       "  </tbody>\n",
       "</table>\n",
       "</div>"
      ],
      "text/plain": [
       "   Community ID    Degree  Betweeness  Eigenvector  Laplacian  Harmonic  \\\n",
       "0             7  0.439516    0.012961     0.566034   0.355070  0.757463   \n",
       "1             7  0.447581    0.010856     0.591562   0.367336  0.746456   \n",
       "2             7  0.423387    0.049285     0.372795   0.307128  0.786978   \n",
       "\n",
       "       Load  \n",
       "0  0.010790  \n",
       "1  0.009723  \n",
       "2  0.049708  "
      ]
     },
     "execution_count": 355,
     "metadata": {},
     "output_type": "execute_result"
    }
   ],
   "source": [
    "df_node_feats = pd.read_csv('Node_Features.csv').drop(columns = ['Node ID'])\n",
    "print(df_node_feats.shape)\n",
    "cols_to_norm = df_node_feats.columns[1:]\n",
    "df_node_feats[cols_to_norm] = df_node_feats[cols_to_norm].apply(lambda x: (x - x.min()) / (x.max() - x.min()))\n",
    "df_node_feats.head(3)"
   ]
  },
  {
   "cell_type": "code",
   "execution_count": 158,
   "id": "327a3bb9",
   "metadata": {},
   "outputs": [
    {
     "name": "stdout",
     "output_type": "stream",
     "text": [
      "fly density:  0.012638989872283547\n"
     ]
    }
   ],
   "source": [
    "fly_mat = pd.read_csv('science.add9330_data_s1_to_s4/Supplementary-Data-S1/all-all_connectivity_matrix.csv').drop(columns=['Unnamed: 0'])\n",
    "fly_mat = fly_mat.to_numpy()\n",
    "fly_weights = pd.read_csv('GNN_data/Wx_initial_MLP_data.csv').drop(columns=['Unnamed: 0'])\n",
    "fly_weights = fly_weights.to_numpy()\n",
    "\n",
    "# Convert fly matrix into binary adjacency matrix\n",
    "fly_mat[fly_mat > 0] = 1\n",
    "fly_mat[fly_mat != 1] = 0\n",
    "fly_mat[np.identity(fly_mat.shape[0], dtype=bool)] = 0.\n",
    "fly_graph = fly_mat\n",
    "print('fly density: ', np.sum(fly_mat.reshape(-1))/(fly_mat.shape[0]*fly_mat.shape[1]))"
   ]
  },
  {
   "cell_type": "code",
   "execution_count": 283,
   "id": "ff3142b5",
   "metadata": {
    "scrolled": false
   },
   "outputs": [
    {
     "name": "stdout",
     "output_type": "stream",
     "text": [
      "Epoch 1: Average Loss: 0.7695\n",
      "Epoch 2: Average Loss: 0.3649\n",
      "Epoch 3: Average Loss: 0.1153\n",
      "Epoch 4: Average Loss: 0.0242\n",
      "Epoch 5: Average Loss: 0.0280\n",
      "Epoch 6: Average Loss: 0.1326\n",
      "Epoch 7: Average Loss: 0.2453\n",
      "Epoch 8: Average Loss: 0.1542\n",
      "Epoch 9: Average Loss: 0.1440\n",
      "Epoch 10: Average Loss: 0.2261\n"
     ]
    }
   ],
   "source": [
    "# Create a dummy graph dataset\n",
    "# Replace with your own dataset loading and preprocessing code\n",
    "def create_dummy_dataset(num_graphs, N_nodes, N_features):\n",
    "    dataset = []\n",
    "    for _ in range(num_graphs):\n",
    "        x = torch.randn(N_nodes, N_features)  # Node features\n",
    "        y = torch.randn(1, 1)  # Target value (per graph)\n",
    "        # Create Data object and add it to the dataset\n",
    "        graph_data = (x,y)\n",
    "        dataset.append(graph_data)\n",
    "    return dataset\n",
    "def getGNNedData(df, nodeid_features_nparr):\n",
    "    data = []\n",
    "    for row in range(df.shape[0]):\n",
    "        ins = [int(x) for x in df['Input nodes'].iloc[i].replace(\"[\", \"\").replace(\"]\", \"\").split()]\n",
    "        outs = [int(x) for x in df['Output nodes'].iloc[i].replace(\"[\", \"\").replace(\"]\", \"\").split()]\n",
    "        perf = torch.Tensor(df['Test MSE'].to_numpy())[row].reshape([1])\n",
    "        graph_i_nfeats = np.zeros((fly_mat.shape[0], 2 + nodeid_features_nparr.shape[1] ))\n",
    "        graph_i_nfeats[ins, 0] = 1\n",
    "        graph_i_nfeats[outs, 1] = 1\n",
    "        graph_i_nfeats[:, 2:] = nodeid_features_nparr\n",
    "        data.append([torch.Tensor(graph_i_nfeats), perf])\n",
    "    return data\n",
    "def weight_matrix_to_edge_lists(adj_matrix):\n",
    "    num_nodes = adj_matrix.shape[0]\n",
    "    edge_list = [[],[]]\n",
    "    weight_list = []\n",
    "    for i in range(num_nodes):\n",
    "        for j in range(num_nodes):\n",
    "            if adj_matrix[i][j] != 0:\n",
    "                edge_list[0].append(i)\n",
    "                edge_list[1].append(j)\n",
    "                weight_list.append(adj_matrix[i, j])\n",
    "\n",
    "    return edge_list, weight_list\n",
    "# Define the GCN model\n",
    "class GCN(torch.nn.Module):\n",
    "    def __init__(self, input_dim, hidden_dim, N_nodes, edge_index, edge_weight):\n",
    "        super(GCN, self).__init__()\n",
    "        self.conv1 = GCNConv(input_dim, hidden_dim)\n",
    "        self.conv2 = GCNConv(hidden_dim, hidden_dim)\n",
    "        self.fc1 = torch.nn.Linear(hidden_dim, 1)\n",
    "        self.fc2 = torch.nn.Linear(N_nodes, 1)\n",
    "        self.edge_index = edge_index\n",
    "        self.edge_weight = edge_weight\n",
    "\n",
    "    def forward(self, x):\n",
    "        x = self.conv1(x, self.edge_index, self.edge_weight)\n",
    "        x = F.relu(x)\n",
    "        x = self.conv2(x, self.edge_index, self.edge_weight)\n",
    "        x = F.relu(x)\n",
    "        x = self.fc1(x) # could use global pooling here? but because topology doesnt change, maybe fc can work\n",
    "        x = self.fc2(x.flatten())\n",
    "        return x\n",
    "\n",
    "# Create dummy dataset\n",
    "N_nodes, N_feats = 10, 16\n",
    "data = create_dummy_dataset(20, N_nodes, N_feats)\n",
    "\n",
    "edge_index = torch.tensor([[0, 0, 0, 3, 3, 1, 2, 3, 4, 1],\n",
    "                           [1, 2, 3, 4, 5, 6, 7, 8, 9, 0]], dtype=torch.long)  # Adjacency matrix\n",
    "edge_weight = abs(torch.randn(edge_index.shape[1]))  # Edge weights\n",
    "\n",
    "\n",
    "# Set random seed for reproducibility\n",
    "torch.manual_seed(42)\n",
    "# Create GCN model\n",
    "model = GCN(input_dim=N_feats, hidden_dim=32, N_nodes=N_nodes, edge_index=edge_index, edge_weight=edge_weight)\n",
    "# Define loss function and optimizer\n",
    "criterion = torch.nn.MSELoss()\n",
    "optimizer = torch.optim.Adam(model.parameters(), lr=0.01)\n",
    "\n",
    "# Training loop\n",
    "model.train()\n",
    "for epoch in range(10):\n",
    "    total_loss = 0\n",
    "    for datum in data:\n",
    "        optimizer.zero_grad()\n",
    "        output = model(datum[0])\n",
    "        loss = criterion(output, datum[1])\n",
    "        loss.backward()\n",
    "        optimizer.step()\n",
    "        total_loss += loss.item()\n",
    "    avg_loss = total_loss / len(data)\n",
    "    print(f\"Epoch {epoch+1}: Average Loss: {avg_loss:.4f}\")\n",
    "# model.eval()"
   ]
  },
  {
   "cell_type": "code",
   "execution_count": 259,
   "id": "dfa11fd4",
   "metadata": {},
   "outputs": [
    {
     "data": {
      "text/plain": [
       "2"
      ]
     },
     "execution_count": 259,
     "metadata": {},
     "output_type": "execute_result"
    }
   ],
   "source": [
    "len(edge_index_fly)"
   ]
  },
  {
   "cell_type": "code",
   "execution_count": 359,
   "id": "3740ade3",
   "metadata": {
    "scrolled": true
   },
   "outputs": [
    {
     "data": {
      "text/plain": [
       "torch.Size([2952, 9])"
      ]
     },
     "execution_count": 359,
     "metadata": {},
     "output_type": "execute_result"
    }
   ],
   "source": [
    "edge_index_fly, edge_weight_fly = weight_matrix_to_edge_lists(fly_mat)\n",
    "edge_index_fly, edge_weight_fly = torch.tensor(edge_index_fly, dtype=torch.long), torch.Tensor(edge_weight_fly)\n",
    "\n",
    "data2 = getGNNedData(df, df_node_feats)"
   ]
  },
  {
   "cell_type": "code",
   "execution_count": 361,
   "id": "3808ed74",
   "metadata": {},
   "outputs": [
    {
     "data": {
      "text/plain": [
       "torch.Size([2952, 9])"
      ]
     },
     "execution_count": 361,
     "metadata": {},
     "output_type": "execute_result"
    }
   ],
   "source": [
    "data2 = random.sample(data2, len(data2))\n",
    "N_tr, N_te  = 200, 100\n",
    "assert N_tr + N_te < len(data2)\n",
    "data_tr, data_te, data_superte = data2[:N_tr], data2[N_tr:N_tr + N_te], data2[N_tr + N_te:]\n",
    "data_tr[0][0].shape"
   ]
  },
  {
   "cell_type": "code",
   "execution_count": 362,
   "id": "ba28f970",
   "metadata": {},
   "outputs": [],
   "source": [
    "N_nodes=data_tr[0][0].shape[0]\n",
    "N_feats=data_tr[0][0].shape[1]\n",
    "model = GCN(input_dim=N_feats, hidden_dim=32, N_nodes = N_nodes, \n",
    "            edge_index=edge_index_fly, edge_weight=edge_weight_fly)\n",
    "criterion = torch.nn.MSELoss()\n",
    "optimizer = torch.optim.Adam(model.parameters(), lr=0.01)"
   ]
  },
  {
   "cell_type": "code",
   "execution_count": 363,
   "id": "d2f0a357",
   "metadata": {
    "scrolled": true
   },
   "outputs": [
    {
     "name": "stderr",
     "output_type": "stream",
     "text": [
      "100%|█████████████████████████████████████████| 200/200 [00:10<00:00, 18.91it/s]\n"
     ]
    },
    {
     "name": "stdout",
     "output_type": "stream",
     "text": [
      "Epoch 1: Average train Loss: 6.5032\n",
      "Epoch 1: Average test Loss: 0.0742\n"
     ]
    },
    {
     "name": "stderr",
     "output_type": "stream",
     "text": [
      "100%|█████████████████████████████████████████| 200/200 [00:11<00:00, 17.58it/s]\n"
     ]
    },
    {
     "name": "stdout",
     "output_type": "stream",
     "text": [
      "Epoch 2: Average train Loss: 0.1640\n",
      "Epoch 2: Average test Loss: 0.0444\n"
     ]
    },
    {
     "name": "stderr",
     "output_type": "stream",
     "text": [
      "100%|█████████████████████████████████████████| 200/200 [00:10<00:00, 19.95it/s]\n"
     ]
    },
    {
     "name": "stdout",
     "output_type": "stream",
     "text": [
      "Epoch 3: Average train Loss: 0.1476\n",
      "Epoch 3: Average test Loss: 0.4046\n"
     ]
    },
    {
     "name": "stderr",
     "output_type": "stream",
     "text": [
      "100%|█████████████████████████████████████████| 200/200 [00:10<00:00, 19.79it/s]\n"
     ]
    },
    {
     "name": "stdout",
     "output_type": "stream",
     "text": [
      "Epoch 4: Average train Loss: 0.1079\n",
      "Epoch 4: Average test Loss: 0.4524\n"
     ]
    },
    {
     "name": "stderr",
     "output_type": "stream",
     "text": [
      "100%|█████████████████████████████████████████| 200/200 [00:09<00:00, 20.00it/s]\n"
     ]
    },
    {
     "name": "stdout",
     "output_type": "stream",
     "text": [
      "Epoch 5: Average train Loss: 0.1085\n",
      "Epoch 5: Average test Loss: 0.2074\n"
     ]
    },
    {
     "name": "stderr",
     "output_type": "stream",
     "text": [
      "100%|█████████████████████████████████████████| 200/200 [00:10<00:00, 19.85it/s]\n"
     ]
    },
    {
     "name": "stdout",
     "output_type": "stream",
     "text": [
      "Epoch 6: Average train Loss: 0.0605\n",
      "Epoch 6: Average test Loss: 0.1651\n"
     ]
    },
    {
     "name": "stderr",
     "output_type": "stream",
     "text": [
      "100%|█████████████████████████████████████████| 200/200 [00:10<00:00, 19.02it/s]\n"
     ]
    },
    {
     "name": "stdout",
     "output_type": "stream",
     "text": [
      "Epoch 7: Average train Loss: 0.0497\n",
      "Epoch 7: Average test Loss: 0.1045\n"
     ]
    },
    {
     "name": "stderr",
     "output_type": "stream",
     "text": [
      "100%|█████████████████████████████████████████| 200/200 [00:10<00:00, 19.98it/s]\n"
     ]
    },
    {
     "name": "stdout",
     "output_type": "stream",
     "text": [
      "Epoch 8: Average train Loss: 0.0451\n",
      "Epoch 8: Average test Loss: 0.0712\n"
     ]
    },
    {
     "name": "stderr",
     "output_type": "stream",
     "text": [
      "100%|█████████████████████████████████████████| 200/200 [00:10<00:00, 19.09it/s]\n"
     ]
    },
    {
     "name": "stdout",
     "output_type": "stream",
     "text": [
      "Epoch 9: Average train Loss: 0.0423\n",
      "Epoch 9: Average test Loss: 0.0685\n"
     ]
    },
    {
     "name": "stderr",
     "output_type": "stream",
     "text": [
      "100%|█████████████████████████████████████████| 200/200 [00:09<00:00, 20.24it/s]\n"
     ]
    },
    {
     "name": "stdout",
     "output_type": "stream",
     "text": [
      "Epoch 10: Average train Loss: 0.0406\n",
      "Epoch 10: Average test Loss: 0.0767\n"
     ]
    },
    {
     "name": "stderr",
     "output_type": "stream",
     "text": [
      "100%|█████████████████████████████████████████| 200/200 [00:10<00:00, 19.89it/s]\n"
     ]
    },
    {
     "name": "stdout",
     "output_type": "stream",
     "text": [
      "Epoch 11: Average train Loss: 0.0394\n",
      "Epoch 11: Average test Loss: 0.0868\n"
     ]
    },
    {
     "name": "stderr",
     "output_type": "stream",
     "text": [
      "100%|█████████████████████████████████████████| 200/200 [00:10<00:00, 19.20it/s]\n"
     ]
    },
    {
     "name": "stdout",
     "output_type": "stream",
     "text": [
      "Epoch 12: Average train Loss: 0.0387\n",
      "Epoch 12: Average test Loss: 0.0810\n"
     ]
    },
    {
     "name": "stderr",
     "output_type": "stream",
     "text": [
      "100%|█████████████████████████████████████████| 200/200 [00:10<00:00, 19.49it/s]\n"
     ]
    },
    {
     "name": "stdout",
     "output_type": "stream",
     "text": [
      "Epoch 13: Average train Loss: 0.0385\n",
      "Epoch 13: Average test Loss: 0.0709\n"
     ]
    },
    {
     "name": "stderr",
     "output_type": "stream",
     "text": [
      "100%|█████████████████████████████████████████| 200/200 [00:10<00:00, 19.76it/s]\n"
     ]
    },
    {
     "name": "stdout",
     "output_type": "stream",
     "text": [
      "Epoch 14: Average train Loss: 0.0382\n",
      "Epoch 14: Average test Loss: 0.0732\n"
     ]
    },
    {
     "name": "stderr",
     "output_type": "stream",
     "text": [
      "100%|█████████████████████████████████████████| 200/200 [00:12<00:00, 16.35it/s]\n"
     ]
    },
    {
     "name": "stdout",
     "output_type": "stream",
     "text": [
      "Epoch 15: Average train Loss: 0.0384\n",
      "Epoch 15: Average test Loss: 0.0693\n"
     ]
    },
    {
     "name": "stderr",
     "output_type": "stream",
     "text": [
      "100%|█████████████████████████████████████████| 200/200 [00:10<00:00, 18.48it/s]\n"
     ]
    },
    {
     "name": "stdout",
     "output_type": "stream",
     "text": [
      "Epoch 16: Average train Loss: 0.0382\n",
      "Epoch 16: Average test Loss: 0.0693\n"
     ]
    },
    {
     "name": "stderr",
     "output_type": "stream",
     "text": [
      "100%|█████████████████████████████████████████| 200/200 [00:10<00:00, 19.43it/s]\n"
     ]
    },
    {
     "name": "stdout",
     "output_type": "stream",
     "text": [
      "Epoch 17: Average train Loss: 0.0382\n",
      "Epoch 17: Average test Loss: 0.0677\n"
     ]
    },
    {
     "name": "stderr",
     "output_type": "stream",
     "text": [
      "100%|█████████████████████████████████████████| 200/200 [00:10<00:00, 19.60it/s]\n"
     ]
    },
    {
     "name": "stdout",
     "output_type": "stream",
     "text": [
      "Epoch 18: Average train Loss: 0.0381\n",
      "Epoch 18: Average test Loss: 0.0640\n"
     ]
    },
    {
     "name": "stderr",
     "output_type": "stream",
     "text": [
      "100%|█████████████████████████████████████████| 200/200 [00:10<00:00, 19.35it/s]\n"
     ]
    },
    {
     "name": "stdout",
     "output_type": "stream",
     "text": [
      "Epoch 19: Average train Loss: 0.0379\n",
      "Epoch 19: Average test Loss: 0.0576\n"
     ]
    },
    {
     "name": "stderr",
     "output_type": "stream",
     "text": [
      "100%|█████████████████████████████████████████| 200/200 [00:10<00:00, 19.92it/s]\n"
     ]
    },
    {
     "name": "stdout",
     "output_type": "stream",
     "text": [
      "Epoch 20: Average train Loss: 0.0375\n",
      "Epoch 20: Average test Loss: 0.0502\n"
     ]
    },
    {
     "name": "stderr",
     "output_type": "stream",
     "text": [
      "100%|█████████████████████████████████████████| 200/200 [00:10<00:00, 19.98it/s]\n"
     ]
    },
    {
     "name": "stdout",
     "output_type": "stream",
     "text": [
      "Epoch 21: Average train Loss: 0.0368\n",
      "Epoch 21: Average test Loss: 0.0454\n"
     ]
    },
    {
     "name": "stderr",
     "output_type": "stream",
     "text": [
      "100%|█████████████████████████████████████████| 200/200 [00:10<00:00, 19.79it/s]\n"
     ]
    },
    {
     "name": "stdout",
     "output_type": "stream",
     "text": [
      "Epoch 22: Average train Loss: 0.0362\n",
      "Epoch 22: Average test Loss: 0.0437\n"
     ]
    },
    {
     "name": "stderr",
     "output_type": "stream",
     "text": [
      "100%|█████████████████████████████████████████| 200/200 [00:10<00:00, 19.69it/s]\n"
     ]
    },
    {
     "name": "stdout",
     "output_type": "stream",
     "text": [
      "Epoch 23: Average train Loss: 0.0359\n",
      "Epoch 23: Average test Loss: 0.0432\n"
     ]
    },
    {
     "name": "stderr",
     "output_type": "stream",
     "text": [
      "100%|█████████████████████████████████████████| 200/200 [00:10<00:00, 18.52it/s]\n"
     ]
    },
    {
     "name": "stdout",
     "output_type": "stream",
     "text": [
      "Epoch 24: Average train Loss: 0.0358\n",
      "Epoch 24: Average test Loss: 0.0432\n"
     ]
    },
    {
     "name": "stderr",
     "output_type": "stream",
     "text": [
      "100%|█████████████████████████████████████████| 200/200 [00:10<00:00, 18.19it/s]\n"
     ]
    },
    {
     "name": "stdout",
     "output_type": "stream",
     "text": [
      "Epoch 25: Average train Loss: 0.0356\n",
      "Epoch 25: Average test Loss: 0.0451\n"
     ]
    },
    {
     "name": "stderr",
     "output_type": "stream",
     "text": [
      "100%|█████████████████████████████████████████| 200/200 [00:10<00:00, 19.88it/s]\n"
     ]
    },
    {
     "name": "stdout",
     "output_type": "stream",
     "text": [
      "Epoch 26: Average train Loss: 0.0359\n",
      "Epoch 26: Average test Loss: 0.0430\n"
     ]
    },
    {
     "name": "stderr",
     "output_type": "stream",
     "text": [
      "100%|█████████████████████████████████████████| 200/200 [00:10<00:00, 18.57it/s]\n"
     ]
    },
    {
     "name": "stdout",
     "output_type": "stream",
     "text": [
      "Epoch 27: Average train Loss: 0.0356\n",
      "Epoch 27: Average test Loss: 0.0425\n"
     ]
    },
    {
     "name": "stderr",
     "output_type": "stream",
     "text": [
      "100%|█████████████████████████████████████████| 200/200 [00:10<00:00, 19.63it/s]\n"
     ]
    },
    {
     "name": "stdout",
     "output_type": "stream",
     "text": [
      "Epoch 28: Average train Loss: 0.0355\n",
      "Epoch 28: Average test Loss: 0.0423\n"
     ]
    },
    {
     "name": "stderr",
     "output_type": "stream",
     "text": [
      "100%|█████████████████████████████████████████| 200/200 [00:10<00:00, 19.76it/s]\n"
     ]
    },
    {
     "name": "stdout",
     "output_type": "stream",
     "text": [
      "Epoch 29: Average train Loss: 0.0355\n",
      "Epoch 29: Average test Loss: 0.0419\n"
     ]
    },
    {
     "name": "stderr",
     "output_type": "stream",
     "text": [
      "100%|█████████████████████████████████████████| 200/200 [00:10<00:00, 19.82it/s]\n"
     ]
    },
    {
     "name": "stdout",
     "output_type": "stream",
     "text": [
      "Epoch 30: Average train Loss: 0.0354\n",
      "Epoch 30: Average test Loss: 0.0418\n"
     ]
    },
    {
     "name": "stderr",
     "output_type": "stream",
     "text": [
      "100%|█████████████████████████████████████████| 200/200 [00:10<00:00, 19.98it/s]\n"
     ]
    },
    {
     "name": "stdout",
     "output_type": "stream",
     "text": [
      "Epoch 31: Average train Loss: 0.0353\n",
      "Epoch 31: Average test Loss: 0.0416\n"
     ]
    },
    {
     "name": "stderr",
     "output_type": "stream",
     "text": [
      "100%|█████████████████████████████████████████| 200/200 [00:10<00:00, 19.40it/s]\n"
     ]
    },
    {
     "name": "stdout",
     "output_type": "stream",
     "text": [
      "Epoch 32: Average train Loss: 0.0351\n",
      "Epoch 32: Average test Loss: 0.0462\n"
     ]
    },
    {
     "name": "stderr",
     "output_type": "stream",
     "text": [
      "100%|█████████████████████████████████████████| 200/200 [00:10<00:00, 19.85it/s]\n"
     ]
    },
    {
     "name": "stdout",
     "output_type": "stream",
     "text": [
      "Epoch 33: Average train Loss: 0.0388\n",
      "Epoch 33: Average test Loss: 0.0500\n"
     ]
    },
    {
     "name": "stderr",
     "output_type": "stream",
     "text": [
      "100%|█████████████████████████████████████████| 200/200 [00:10<00:00, 19.84it/s]\n"
     ]
    },
    {
     "name": "stdout",
     "output_type": "stream",
     "text": [
      "Epoch 34: Average train Loss: 0.0358\n",
      "Epoch 34: Average test Loss: 0.0430\n"
     ]
    },
    {
     "name": "stderr",
     "output_type": "stream",
     "text": [
      "100%|█████████████████████████████████████████| 200/200 [00:11<00:00, 16.97it/s]\n"
     ]
    },
    {
     "name": "stdout",
     "output_type": "stream",
     "text": [
      "Epoch 35: Average train Loss: 0.0373\n",
      "Epoch 35: Average test Loss: 0.0507\n"
     ]
    },
    {
     "name": "stderr",
     "output_type": "stream",
     "text": [
      "100%|█████████████████████████████████████████| 200/200 [00:10<00:00, 19.93it/s]\n"
     ]
    },
    {
     "name": "stdout",
     "output_type": "stream",
     "text": [
      "Epoch 36: Average train Loss: 0.0387\n",
      "Epoch 36: Average test Loss: 0.0764\n"
     ]
    },
    {
     "name": "stderr",
     "output_type": "stream",
     "text": [
      "100%|█████████████████████████████████████████| 200/200 [00:10<00:00, 19.63it/s]\n"
     ]
    },
    {
     "name": "stdout",
     "output_type": "stream",
     "text": [
      "Epoch 37: Average train Loss: 0.0424\n",
      "Epoch 37: Average test Loss: 0.0478\n"
     ]
    },
    {
     "name": "stderr",
     "output_type": "stream",
     "text": [
      "100%|█████████████████████████████████████████| 200/200 [00:10<00:00, 19.79it/s]\n"
     ]
    },
    {
     "name": "stdout",
     "output_type": "stream",
     "text": [
      "Epoch 38: Average train Loss: 0.0355\n",
      "Epoch 38: Average test Loss: 0.0464\n"
     ]
    },
    {
     "name": "stderr",
     "output_type": "stream",
     "text": [
      "100%|█████████████████████████████████████████| 200/200 [00:10<00:00, 19.72it/s]\n"
     ]
    },
    {
     "name": "stdout",
     "output_type": "stream",
     "text": [
      "Epoch 39: Average train Loss: 0.0355\n",
      "Epoch 39: Average test Loss: 0.0409\n"
     ]
    },
    {
     "name": "stderr",
     "output_type": "stream",
     "text": [
      "100%|█████████████████████████████████████████| 200/200 [00:10<00:00, 19.99it/s]\n"
     ]
    },
    {
     "name": "stdout",
     "output_type": "stream",
     "text": [
      "Epoch 40: Average train Loss: 0.0350\n",
      "Epoch 40: Average test Loss: 0.0446\n"
     ]
    },
    {
     "name": "stderr",
     "output_type": "stream",
     "text": [
      "100%|█████████████████████████████████████████| 200/200 [00:10<00:00, 19.67it/s]\n"
     ]
    },
    {
     "name": "stdout",
     "output_type": "stream",
     "text": [
      "Epoch 41: Average train Loss: 0.0382\n",
      "Epoch 41: Average test Loss: 0.0486\n"
     ]
    },
    {
     "name": "stderr",
     "output_type": "stream",
     "text": [
      "100%|█████████████████████████████████████████| 200/200 [00:10<00:00, 19.72it/s]\n"
     ]
    },
    {
     "name": "stdout",
     "output_type": "stream",
     "text": [
      "Epoch 42: Average train Loss: 0.0384\n",
      "Epoch 42: Average test Loss: 0.0482\n"
     ]
    },
    {
     "name": "stderr",
     "output_type": "stream",
     "text": [
      "100%|█████████████████████████████████████████| 200/200 [00:10<00:00, 19.76it/s]\n"
     ]
    },
    {
     "name": "stdout",
     "output_type": "stream",
     "text": [
      "Epoch 43: Average train Loss: 0.0495\n",
      "Epoch 43: Average test Loss: 0.0506\n"
     ]
    },
    {
     "name": "stderr",
     "output_type": "stream",
     "text": [
      "100%|█████████████████████████████████████████| 200/200 [00:10<00:00, 19.92it/s]\n"
     ]
    },
    {
     "name": "stdout",
     "output_type": "stream",
     "text": [
      "Epoch 44: Average train Loss: 0.0396\n",
      "Epoch 44: Average test Loss: 0.0493\n"
     ]
    },
    {
     "name": "stderr",
     "output_type": "stream",
     "text": [
      "100%|█████████████████████████████████████████| 200/200 [00:12<00:00, 16.40it/s]\n"
     ]
    },
    {
     "name": "stdout",
     "output_type": "stream",
     "text": [
      "Epoch 45: Average train Loss: 0.0573\n",
      "Epoch 45: Average test Loss: 0.1074\n"
     ]
    },
    {
     "name": "stderr",
     "output_type": "stream",
     "text": [
      "100%|█████████████████████████████████████████| 200/200 [00:10<00:00, 19.88it/s]\n"
     ]
    },
    {
     "name": "stdout",
     "output_type": "stream",
     "text": [
      "Epoch 46: Average train Loss: 0.0396\n",
      "Epoch 46: Average test Loss: 0.0649\n"
     ]
    },
    {
     "name": "stderr",
     "output_type": "stream",
     "text": [
      "100%|█████████████████████████████████████████| 200/200 [00:10<00:00, 19.87it/s]\n"
     ]
    },
    {
     "name": "stdout",
     "output_type": "stream",
     "text": [
      "Epoch 47: Average train Loss: 0.0393\n",
      "Epoch 47: Average test Loss: 0.0478\n"
     ]
    },
    {
     "name": "stderr",
     "output_type": "stream",
     "text": [
      "100%|█████████████████████████████████████████| 200/200 [00:10<00:00, 19.85it/s]\n"
     ]
    },
    {
     "name": "stdout",
     "output_type": "stream",
     "text": [
      "Epoch 48: Average train Loss: 0.0382\n",
      "Epoch 48: Average test Loss: 0.0481\n"
     ]
    },
    {
     "name": "stderr",
     "output_type": "stream",
     "text": [
      "100%|█████████████████████████████████████████| 200/200 [00:10<00:00, 19.35it/s]\n"
     ]
    },
    {
     "name": "stdout",
     "output_type": "stream",
     "text": [
      "Epoch 49: Average train Loss: 0.0484\n",
      "Epoch 49: Average test Loss: 0.0485\n"
     ]
    },
    {
     "name": "stderr",
     "output_type": "stream",
     "text": [
      "100%|█████████████████████████████████████████| 200/200 [00:10<00:00, 19.24it/s]\n"
     ]
    },
    {
     "name": "stdout",
     "output_type": "stream",
     "text": [
      "Epoch 50: Average train Loss: 0.0413\n",
      "Epoch 50: Average test Loss: 0.0424\n"
     ]
    },
    {
     "name": "stderr",
     "output_type": "stream",
     "text": [
      "100%|█████████████████████████████████████████| 200/200 [00:10<00:00, 19.20it/s]\n"
     ]
    },
    {
     "name": "stdout",
     "output_type": "stream",
     "text": [
      "Epoch 51: Average train Loss: 0.0567\n",
      "Epoch 51: Average test Loss: 0.0580\n"
     ]
    },
    {
     "name": "stderr",
     "output_type": "stream",
     "text": [
      "100%|█████████████████████████████████████████| 200/200 [00:10<00:00, 19.73it/s]\n"
     ]
    },
    {
     "name": "stdout",
     "output_type": "stream",
     "text": [
      "Epoch 52: Average train Loss: 0.0407\n",
      "Epoch 52: Average test Loss: 0.0405\n"
     ]
    },
    {
     "name": "stderr",
     "output_type": "stream",
     "text": [
      "100%|█████████████████████████████████████████| 200/200 [00:11<00:00, 17.61it/s]\n"
     ]
    },
    {
     "name": "stdout",
     "output_type": "stream",
     "text": [
      "Epoch 53: Average train Loss: 0.0366\n",
      "Epoch 53: Average test Loss: 0.0956\n"
     ]
    },
    {
     "name": "stderr",
     "output_type": "stream",
     "text": [
      "100%|█████████████████████████████████████████| 200/200 [00:11<00:00, 18.16it/s]\n"
     ]
    },
    {
     "name": "stdout",
     "output_type": "stream",
     "text": [
      "Epoch 54: Average train Loss: 0.0442\n",
      "Epoch 54: Average test Loss: 0.0504\n"
     ]
    },
    {
     "name": "stderr",
     "output_type": "stream",
     "text": [
      "100%|█████████████████████████████████████████| 200/200 [00:11<00:00, 17.02it/s]\n"
     ]
    },
    {
     "name": "stdout",
     "output_type": "stream",
     "text": [
      "Epoch 55: Average train Loss: 0.0508\n",
      "Epoch 55: Average test Loss: 0.0426\n"
     ]
    },
    {
     "name": "stderr",
     "output_type": "stream",
     "text": [
      "100%|█████████████████████████████████████████| 200/200 [00:12<00:00, 15.91it/s]\n"
     ]
    },
    {
     "name": "stdout",
     "output_type": "stream",
     "text": [
      "Epoch 56: Average train Loss: 0.0394\n",
      "Epoch 56: Average test Loss: 0.1288\n"
     ]
    },
    {
     "name": "stderr",
     "output_type": "stream",
     "text": [
      "100%|█████████████████████████████████████████| 200/200 [00:11<00:00, 18.05it/s]\n"
     ]
    },
    {
     "name": "stdout",
     "output_type": "stream",
     "text": [
      "Epoch 57: Average train Loss: 0.0546\n",
      "Epoch 57: Average test Loss: 0.1046\n"
     ]
    },
    {
     "name": "stderr",
     "output_type": "stream",
     "text": [
      "100%|█████████████████████████████████████████| 200/200 [00:11<00:00, 18.15it/s]\n"
     ]
    },
    {
     "name": "stdout",
     "output_type": "stream",
     "text": [
      "Epoch 58: Average train Loss: 0.0430\n",
      "Epoch 58: Average test Loss: 0.0534\n"
     ]
    },
    {
     "name": "stderr",
     "output_type": "stream",
     "text": [
      "100%|█████████████████████████████████████████| 200/200 [00:10<00:00, 18.45it/s]\n"
     ]
    },
    {
     "name": "stdout",
     "output_type": "stream",
     "text": [
      "Epoch 59: Average train Loss: 0.0395\n",
      "Epoch 59: Average test Loss: 0.0456\n"
     ]
    },
    {
     "name": "stderr",
     "output_type": "stream",
     "text": [
      "100%|█████████████████████████████████████████| 200/200 [00:11<00:00, 17.33it/s]\n"
     ]
    },
    {
     "name": "stdout",
     "output_type": "stream",
     "text": [
      "Epoch 60: Average train Loss: 0.0368\n",
      "Epoch 60: Average test Loss: 0.0446\n"
     ]
    },
    {
     "name": "stderr",
     "output_type": "stream",
     "text": [
      "100%|█████████████████████████████████████████| 200/200 [00:11<00:00, 18.04it/s]\n"
     ]
    },
    {
     "name": "stdout",
     "output_type": "stream",
     "text": [
      "Epoch 61: Average train Loss: 0.0531\n",
      "Epoch 61: Average test Loss: 0.0476\n"
     ]
    },
    {
     "name": "stderr",
     "output_type": "stream",
     "text": [
      "100%|█████████████████████████████████████████| 200/200 [00:11<00:00, 17.78it/s]\n"
     ]
    },
    {
     "name": "stdout",
     "output_type": "stream",
     "text": [
      "Epoch 62: Average train Loss: 0.0581\n",
      "Epoch 62: Average test Loss: 0.0788\n"
     ]
    },
    {
     "name": "stderr",
     "output_type": "stream",
     "text": [
      "100%|█████████████████████████████████████████| 200/200 [00:10<00:00, 18.31it/s]\n"
     ]
    },
    {
     "name": "stdout",
     "output_type": "stream",
     "text": [
      "Epoch 63: Average train Loss: 0.0387\n",
      "Epoch 63: Average test Loss: 0.0431\n"
     ]
    },
    {
     "name": "stderr",
     "output_type": "stream",
     "text": [
      "100%|█████████████████████████████████████████| 200/200 [00:11<00:00, 17.84it/s]\n"
     ]
    },
    {
     "name": "stdout",
     "output_type": "stream",
     "text": [
      "Epoch 64: Average train Loss: 0.0473\n",
      "Epoch 64: Average test Loss: 0.0469\n"
     ]
    },
    {
     "name": "stderr",
     "output_type": "stream",
     "text": [
      "100%|█████████████████████████████████████████| 200/200 [00:11<00:00, 18.11it/s]\n"
     ]
    },
    {
     "name": "stdout",
     "output_type": "stream",
     "text": [
      "Epoch 65: Average train Loss: 0.0463\n",
      "Epoch 65: Average test Loss: 0.0612\n"
     ]
    },
    {
     "name": "stderr",
     "output_type": "stream",
     "text": [
      "100%|█████████████████████████████████████████| 200/200 [00:12<00:00, 16.35it/s]\n"
     ]
    },
    {
     "name": "stdout",
     "output_type": "stream",
     "text": [
      "Epoch 66: Average train Loss: 0.0415\n",
      "Epoch 66: Average test Loss: 0.0856\n"
     ]
    },
    {
     "name": "stderr",
     "output_type": "stream",
     "text": [
      "100%|█████████████████████████████████████████| 200/200 [00:11<00:00, 17.54it/s]\n"
     ]
    },
    {
     "name": "stdout",
     "output_type": "stream",
     "text": [
      "Epoch 67: Average train Loss: 0.0445\n",
      "Epoch 67: Average test Loss: 0.0472\n"
     ]
    },
    {
     "name": "stderr",
     "output_type": "stream",
     "text": [
      "100%|█████████████████████████████████████████| 200/200 [00:11<00:00, 17.93it/s]\n"
     ]
    },
    {
     "name": "stdout",
     "output_type": "stream",
     "text": [
      "Epoch 68: Average train Loss: 0.0585\n",
      "Epoch 68: Average test Loss: 0.0403\n"
     ]
    },
    {
     "name": "stderr",
     "output_type": "stream",
     "text": [
      "100%|█████████████████████████████████████████| 200/200 [00:10<00:00, 18.41it/s]\n"
     ]
    },
    {
     "name": "stdout",
     "output_type": "stream",
     "text": [
      "Epoch 69: Average train Loss: 0.0518\n",
      "Epoch 69: Average test Loss: 0.0500\n"
     ]
    },
    {
     "name": "stderr",
     "output_type": "stream",
     "text": [
      "100%|█████████████████████████████████████████| 200/200 [00:10<00:00, 18.25it/s]\n"
     ]
    },
    {
     "name": "stdout",
     "output_type": "stream",
     "text": [
      "Epoch 70: Average train Loss: 0.0599\n",
      "Epoch 70: Average test Loss: 0.0478\n"
     ]
    },
    {
     "name": "stderr",
     "output_type": "stream",
     "text": [
      "100%|█████████████████████████████████████████| 200/200 [00:10<00:00, 18.85it/s]\n"
     ]
    },
    {
     "name": "stdout",
     "output_type": "stream",
     "text": [
      "Epoch 71: Average train Loss: 0.0478\n",
      "Epoch 71: Average test Loss: 0.0571\n"
     ]
    },
    {
     "name": "stderr",
     "output_type": "stream",
     "text": [
      "100%|█████████████████████████████████████████| 200/200 [00:11<00:00, 17.41it/s]\n"
     ]
    },
    {
     "name": "stdout",
     "output_type": "stream",
     "text": [
      "Epoch 72: Average train Loss: 0.0395\n",
      "Epoch 72: Average test Loss: 0.1951\n"
     ]
    },
    {
     "name": "stderr",
     "output_type": "stream",
     "text": [
      "100%|█████████████████████████████████████████| 200/200 [00:11<00:00, 17.86it/s]\n"
     ]
    },
    {
     "name": "stdout",
     "output_type": "stream",
     "text": [
      "Epoch 73: Average train Loss: 0.0524\n",
      "Epoch 73: Average test Loss: 0.1249\n"
     ]
    },
    {
     "name": "stderr",
     "output_type": "stream",
     "text": [
      "100%|█████████████████████████████████████████| 200/200 [00:10<00:00, 19.38it/s]\n"
     ]
    },
    {
     "name": "stdout",
     "output_type": "stream",
     "text": [
      "Epoch 74: Average train Loss: 0.0438\n",
      "Epoch 74: Average test Loss: 0.1583\n"
     ]
    },
    {
     "name": "stderr",
     "output_type": "stream",
     "text": [
      "100%|█████████████████████████████████████████| 200/200 [00:10<00:00, 19.82it/s]\n"
     ]
    },
    {
     "name": "stdout",
     "output_type": "stream",
     "text": [
      "Epoch 75: Average train Loss: 0.0437\n",
      "Epoch 75: Average test Loss: 0.1850\n"
     ]
    },
    {
     "name": "stderr",
     "output_type": "stream",
     "text": [
      "100%|█████████████████████████████████████████| 200/200 [00:11<00:00, 17.79it/s]\n"
     ]
    },
    {
     "name": "stdout",
     "output_type": "stream",
     "text": [
      "Epoch 76: Average train Loss: 0.0589\n",
      "Epoch 76: Average test Loss: 0.0830\n"
     ]
    },
    {
     "name": "stderr",
     "output_type": "stream",
     "text": [
      "100%|█████████████████████████████████████████| 200/200 [00:10<00:00, 19.13it/s]\n"
     ]
    },
    {
     "name": "stdout",
     "output_type": "stream",
     "text": [
      "Epoch 77: Average train Loss: 0.0494\n",
      "Epoch 77: Average test Loss: 0.0693\n"
     ]
    },
    {
     "name": "stderr",
     "output_type": "stream",
     "text": [
      "100%|█████████████████████████████████████████| 200/200 [00:10<00:00, 19.66it/s]\n"
     ]
    },
    {
     "name": "stdout",
     "output_type": "stream",
     "text": [
      "Epoch 78: Average train Loss: 0.0383\n",
      "Epoch 78: Average test Loss: 0.0525\n"
     ]
    },
    {
     "name": "stderr",
     "output_type": "stream",
     "text": [
      "100%|█████████████████████████████████████████| 200/200 [00:10<00:00, 19.55it/s]\n"
     ]
    },
    {
     "name": "stdout",
     "output_type": "stream",
     "text": [
      "Epoch 79: Average train Loss: 0.0436\n",
      "Epoch 79: Average test Loss: 0.0474\n"
     ]
    },
    {
     "name": "stderr",
     "output_type": "stream",
     "text": [
      "100%|█████████████████████████████████████████| 200/200 [00:10<00:00, 19.61it/s]\n"
     ]
    },
    {
     "name": "stdout",
     "output_type": "stream",
     "text": [
      "Epoch 80: Average train Loss: 0.0523\n",
      "Epoch 80: Average test Loss: 0.1530\n"
     ]
    },
    {
     "name": "stderr",
     "output_type": "stream",
     "text": [
      "100%|█████████████████████████████████████████| 200/200 [00:10<00:00, 19.68it/s]\n"
     ]
    },
    {
     "name": "stdout",
     "output_type": "stream",
     "text": [
      "Epoch 81: Average train Loss: 0.0796\n",
      "Epoch 81: Average test Loss: 0.1509\n"
     ]
    },
    {
     "name": "stderr",
     "output_type": "stream",
     "text": [
      "100%|█████████████████████████████████████████| 200/200 [00:10<00:00, 19.28it/s]\n"
     ]
    },
    {
     "name": "stdout",
     "output_type": "stream",
     "text": [
      "Epoch 82: Average train Loss: 0.0414\n",
      "Epoch 82: Average test Loss: 0.0427\n"
     ]
    },
    {
     "name": "stderr",
     "output_type": "stream",
     "text": [
      "100%|█████████████████████████████████████████| 200/200 [00:10<00:00, 18.73it/s]\n"
     ]
    },
    {
     "name": "stdout",
     "output_type": "stream",
     "text": [
      "Epoch 83: Average train Loss: 0.0375\n",
      "Epoch 83: Average test Loss: 0.0452\n"
     ]
    },
    {
     "name": "stderr",
     "output_type": "stream",
     "text": [
      "100%|█████████████████████████████████████████| 200/200 [00:10<00:00, 19.49it/s]\n"
     ]
    },
    {
     "name": "stdout",
     "output_type": "stream",
     "text": [
      "Epoch 84: Average train Loss: 0.0757\n",
      "Epoch 84: Average test Loss: 0.1629\n"
     ]
    },
    {
     "name": "stderr",
     "output_type": "stream",
     "text": [
      "100%|█████████████████████████████████████████| 200/200 [00:10<00:00, 19.52it/s]\n"
     ]
    },
    {
     "name": "stdout",
     "output_type": "stream",
     "text": [
      "Epoch 85: Average train Loss: 0.0509\n",
      "Epoch 85: Average test Loss: 0.0606\n"
     ]
    },
    {
     "name": "stderr",
     "output_type": "stream",
     "text": [
      "100%|█████████████████████████████████████████| 200/200 [00:10<00:00, 19.69it/s]\n"
     ]
    },
    {
     "name": "stdout",
     "output_type": "stream",
     "text": [
      "Epoch 86: Average train Loss: 0.0405\n",
      "Epoch 86: Average test Loss: 0.0664\n"
     ]
    },
    {
     "name": "stderr",
     "output_type": "stream",
     "text": [
      "100%|█████████████████████████████████████████| 200/200 [00:10<00:00, 19.67it/s]\n"
     ]
    },
    {
     "name": "stdout",
     "output_type": "stream",
     "text": [
      "Epoch 87: Average train Loss: 0.0395\n",
      "Epoch 87: Average test Loss: 0.0470\n"
     ]
    },
    {
     "name": "stderr",
     "output_type": "stream",
     "text": [
      "100%|█████████████████████████████████████████| 200/200 [00:11<00:00, 17.12it/s]\n"
     ]
    },
    {
     "name": "stdout",
     "output_type": "stream",
     "text": [
      "Epoch 88: Average train Loss: 0.0416\n",
      "Epoch 88: Average test Loss: 0.0495\n"
     ]
    },
    {
     "name": "stderr",
     "output_type": "stream",
     "text": [
      "100%|█████████████████████████████████████████| 200/200 [00:10<00:00, 19.74it/s]\n"
     ]
    },
    {
     "name": "stdout",
     "output_type": "stream",
     "text": [
      "Epoch 89: Average train Loss: 0.0367\n",
      "Epoch 89: Average test Loss: 0.0736\n"
     ]
    },
    {
     "name": "stderr",
     "output_type": "stream",
     "text": [
      "100%|█████████████████████████████████████████| 200/200 [00:10<00:00, 19.68it/s]\n"
     ]
    },
    {
     "name": "stdout",
     "output_type": "stream",
     "text": [
      "Epoch 90: Average train Loss: 0.0548\n",
      "Epoch 90: Average test Loss: 0.1704\n"
     ]
    },
    {
     "name": "stderr",
     "output_type": "stream",
     "text": [
      "100%|█████████████████████████████████████████| 200/200 [00:10<00:00, 19.83it/s]\n"
     ]
    },
    {
     "name": "stdout",
     "output_type": "stream",
     "text": [
      "Epoch 91: Average train Loss: 0.0471\n",
      "Epoch 91: Average test Loss: 0.1076\n"
     ]
    },
    {
     "name": "stderr",
     "output_type": "stream",
     "text": [
      "100%|█████████████████████████████████████████| 200/200 [00:10<00:00, 19.70it/s]\n"
     ]
    },
    {
     "name": "stdout",
     "output_type": "stream",
     "text": [
      "Epoch 92: Average train Loss: 0.0394\n",
      "Epoch 92: Average test Loss: 0.0662\n"
     ]
    },
    {
     "name": "stderr",
     "output_type": "stream",
     "text": [
      "100%|█████████████████████████████████████████| 200/200 [00:10<00:00, 19.51it/s]\n"
     ]
    },
    {
     "name": "stdout",
     "output_type": "stream",
     "text": [
      "Epoch 93: Average train Loss: 0.0469\n",
      "Epoch 93: Average test Loss: 0.2068\n"
     ]
    },
    {
     "name": "stderr",
     "output_type": "stream",
     "text": [
      "100%|█████████████████████████████████████████| 200/200 [00:10<00:00, 19.72it/s]\n"
     ]
    },
    {
     "name": "stdout",
     "output_type": "stream",
     "text": [
      "Epoch 94: Average train Loss: 0.0443\n",
      "Epoch 94: Average test Loss: 0.1331\n"
     ]
    },
    {
     "name": "stderr",
     "output_type": "stream",
     "text": [
      "100%|█████████████████████████████████████████| 200/200 [00:10<00:00, 19.75it/s]\n"
     ]
    },
    {
     "name": "stdout",
     "output_type": "stream",
     "text": [
      "Epoch 95: Average train Loss: 0.0416\n",
      "Epoch 95: Average test Loss: 0.1231\n"
     ]
    },
    {
     "name": "stderr",
     "output_type": "stream",
     "text": [
      "100%|█████████████████████████████████████████| 200/200 [00:10<00:00, 19.49it/s]\n"
     ]
    },
    {
     "name": "stdout",
     "output_type": "stream",
     "text": [
      "Epoch 96: Average train Loss: 0.0539\n",
      "Epoch 96: Average test Loss: 0.1272\n"
     ]
    },
    {
     "name": "stderr",
     "output_type": "stream",
     "text": [
      "100%|█████████████████████████████████████████| 200/200 [00:10<00:00, 18.77it/s]\n"
     ]
    },
    {
     "name": "stdout",
     "output_type": "stream",
     "text": [
      "Epoch 97: Average train Loss: 0.0664\n",
      "Epoch 97: Average test Loss: 0.0410\n"
     ]
    },
    {
     "name": "stderr",
     "output_type": "stream",
     "text": [
      "100%|█████████████████████████████████████████| 200/200 [00:10<00:00, 19.45it/s]\n"
     ]
    },
    {
     "name": "stdout",
     "output_type": "stream",
     "text": [
      "Epoch 98: Average train Loss: 0.0400\n",
      "Epoch 98: Average test Loss: 0.0507\n"
     ]
    },
    {
     "name": "stderr",
     "output_type": "stream",
     "text": [
      "100%|█████████████████████████████████████████| 200/200 [00:10<00:00, 19.36it/s]\n"
     ]
    },
    {
     "name": "stdout",
     "output_type": "stream",
     "text": [
      "Epoch 99: Average train Loss: 0.0515\n",
      "Epoch 99: Average test Loss: 0.0421\n"
     ]
    },
    {
     "name": "stderr",
     "output_type": "stream",
     "text": [
      "100%|█████████████████████████████████████████| 200/200 [00:11<00:00, 17.78it/s]\n"
     ]
    },
    {
     "name": "stdout",
     "output_type": "stream",
     "text": [
      "Epoch 100: Average train Loss: 0.0723\n",
      "Epoch 100: Average test Loss: 0.0668\n"
     ]
    }
   ],
   "source": [
    "losses_tr, losses_te = [], []\n",
    "for epoch in range(100):\n",
    "    # Training loop\n",
    "    model.train()\n",
    "    with torch.enable_grad():\n",
    "        total_loss = 0\n",
    "        for datum in tqdm(data_tr):\n",
    "            optimizer.zero_grad()\n",
    "            output = model(datum[0])\n",
    "            loss = criterion(output, datum[1])\n",
    "            loss.backward()\n",
    "            optimizer.step()\n",
    "            total_loss += loss.item()\n",
    "        avg_loss = total_loss / len(data_tr)\n",
    "        print(f\"Epoch {epoch+1}: Average train Loss: {avg_loss:.4f}\")\n",
    "        losses_tr.append(avg_loss)\n",
    "    \n",
    "    model.eval()\n",
    "    with torch.no_grad():\n",
    "        total_loss = 0\n",
    "        for datum in data_te:\n",
    "            output = model(datum[0])\n",
    "            loss = criterion(output, datum[1])\n",
    "            total_loss += loss.item()\n",
    "        avg_loss = total_loss / len(data_te)\n",
    "        print(f\"Epoch {epoch+1}: Average test Loss: {avg_loss:.4f}\")\n",
    "        losses_te.append(avg_loss)"
   ]
  },
  {
   "cell_type": "code",
   "execution_count": 367,
   "id": "9b37844f",
   "metadata": {},
   "outputs": [
    {
     "data": {
      "text/plain": [
       "<matplotlib.legend.Legend at 0x7f9cbc334dc0>"
      ]
     },
     "execution_count": 367,
     "metadata": {},
     "output_type": "execute_result"
    },
    {
     "data": {
      "image/png": "[encoded data removed]",
      "text/plain": [
       "<Figure size 640x480 with 1 Axes>"
      ]
     },
     "metadata": {},
     "output_type": "display_data"
    }
   ],
   "source": [
    "plt.plot(losses_tr, label = 'train')\n",
    "\n",
    "plt.plot(losses_te, label = 'test')\n",
    "plt.ylim([0, 0.2])\n",
    "plt.legend()"
   ]
  },
  {
   "cell_type": "code",
   "execution_count": 365,
   "id": "c6bdab35",
   "metadata": {},
   "outputs": [
    {
     "name": "stdout",
     "output_type": "stream",
     "text": [
      "Epoch 100: Average test Loss: 0.0567\n"
     ]
    }
   ],
   "source": [
    "model.eval()\n",
    "N_super = 100\n",
    "with torch.no_grad():\n",
    "    total_loss = 0\n",
    "    for datum in data_superte[:N_super]:\n",
    "        output = model(datum[0])\n",
    "        loss = criterion(output, datum[1])\n",
    "        total_loss += loss.item()\n",
    "    avg_loss = total_loss / N_super\n",
    "    print(f\"Epoch {epoch+1}: Average test Loss: {avg_loss:.4f}\")"
   ]
  },
  {
   "cell_type": "code",
   "execution_count": 398,
   "id": "29cceba3",
   "metadata": {},
   "outputs": [
    {
     "name": "stderr",
     "output_type": "stream",
     "text": [
      "100%|███████████████████████████████████████████| 20/20 [06:58<00:00, 20.93s/it]\n"
     ]
    }
   ],
   "source": [
    "data2 = random.sample(data2, len(data2))\n",
    "e1,e2 = [], []\n",
    "for N_tr in tqdm(range(1000, 3000, 100)):\n",
    "    N_tr, N_te  = N_tr, 500\n",
    "    assert N_tr + N_te < len(data2)\n",
    "    data_tr, data_te, data_superte = data2[:N_tr], data2[N_tr:N_tr + N_te], data2[N_tr + N_te:]\n",
    "    data_tr[0][0].shape\n",
    "    basic_trx, basic_try = np.array([x[0].numpy().reshape(-1) for x in data_tr]), np.array([x[1].numpy() for x in data_tr]).reshape(-1)\n",
    "    basic_tex, basic_tey = np.array([x[0].numpy().reshape(-1) for x in data_te]), np.array([x[1].numpy() for x in data_te]).reshape(-1)\n",
    "\n",
    "    mod = MLPRegressor()\n",
    "    mod.fit(basic_trx, basic_try)\n",
    "    \n",
    "    pred = mod.predict(basic_trx)\n",
    "    e1.append(mean_squared_error(pred, basic_try))\n",
    "    pred = mod.predict(basic_tex)\n",
    "    e2.append(mean_squared_error(pred, basic_tey))\n",
    "\n",
    "plt.plot(e1)\n",
    "plt.plot(e2)"
   ]
  },
  {
   "cell_type": "code",
   "execution_count": 400,
   "id": "9f00ef2a",
   "metadata": {},
   "outputs": [
    {
     "name": "stderr",
     "output_type": "stream",
     "text": [
      "100%|███████████████████████████████████████████| 20/20 [07:16<00:00, 21.83s/it]\n"
     ]
    },
    {
     "data": {
      "text/plain": [
       "[<matplotlib.lines.Line2D at 0x7f9c4205eb90>]"
      ]
     },
     "execution_count": 400,
     "metadata": {},
     "output_type": "execute_result"
    },
    {
     "data": {
      "image/png": "[encoded data removed]",
      "text/plain": [
       "<Figure size 640x480 with 1 Axes>"
      ]
     },
     "metadata": {},
     "output_type": "display_data"
    }
   ],
   "source": [
    "data2 = random.sample(data2, len(data2))\n",
    "e1,e2 = [], []\n",
    "for N_tr in tqdm(range(1000, 3000, 100)):\n",
    "    N_tr, N_te  = N_tr, 500\n",
    "    assert N_tr + N_te < len(data2)\n",
    "    data_tr, data_te, data_superte = data2[:N_tr], data2[N_tr:N_tr + N_te], data2[N_tr + N_te:]\n",
    "    data_tr[0][0].shape\n",
    "    basic_trx, basic_try = np.array([x[0].numpy().reshape(-1) for x in data_tr]), np.array([x[1].numpy() for x in data_tr]).reshape(-1)\n",
    "    basic_tex, basic_tey = np.array([x[0].numpy().reshape(-1) for x in data_te]), np.array([x[1].numpy() for x in data_te]).reshape(-1)\n",
    "\n",
    "    mod = MLPRegressor()\n",
    "    mod.fit(basic_trx, basic_try)\n",
    "    \n",
    "    pred = mod.predict(basic_trx)\n",
    "    e1.append(mean_squared_error(pred, basic_try))\n",
    "    pred = mod.predict(basic_tex)\n",
    "    e2.append(mean_squared_error(pred, basic_tey))\n",
    "\n",
    "plt.plot(e1)\n",
    "plt.plot(e2)"
   ]
  },
  {
   "cell_type": "code",
   "execution_count": 401,
   "id": "ae90f897",
   "metadata": {},
   "outputs": [
    {
     "name": "stderr",
     "output_type": "stream",
     "text": [
      "100%|███████████████████████████████████████████| 20/20 [07:21<00:00, 22.07s/it]\n"
     ]
    },
    {
     "data": {
      "text/plain": [
       "[<matplotlib.lines.Line2D at 0x7f9c4207f160>]"
      ]
     },
     "execution_count": 401,
     "metadata": {},
     "output_type": "execute_result"
    },
    {
     "data": {
      "image/png": "[encoded data removed]",
      "text/plain": [
       "<Figure size 640x480 with 1 Axes>"
      ]
     },
     "metadata": {},
     "output_type": "display_data"
    }
   ],
   "source": [
    "data2 = random.sample(data2, len(data2))\n",
    "e1,e2 = [], []\n",
    "for N_tr in tqdm(range(1000, 3000, 100)):\n",
    "    N_tr, N_te  = N_tr, 500\n",
    "    assert N_tr + N_te < len(data2)\n",
    "    data_tr, data_te, data_superte = data2[:N_tr], data2[N_tr:N_tr + N_te], data2[N_tr + N_te:]\n",
    "    data_tr[0][0].shape\n",
    "    basic_trx, basic_try = np.array([x[0].numpy().reshape(-1) for x in data_tr]), np.array([x[1].numpy() for x in data_tr]).reshape(-1)\n",
    "    basic_tex, basic_tey = np.array([x[0].numpy().reshape(-1) for x in data_te]), np.array([x[1].numpy() for x in data_te]).reshape(-1)\n",
    "\n",
    "    mod = MLPRegressor()\n",
    "    mod.fit(basic_trx, basic_try)\n",
    "    \n",
    "    pred = mod.predict(basic_trx)\n",
    "    e1.append(mean_squared_error(pred, basic_try))\n",
    "    pred = mod.predict(basic_tex)\n",
    "    e2.append(mean_squared_error(pred, basic_tey))\n",
    "\n",
    "plt.plot(e1)\n",
    "plt.plot(e2)"
   ]
  },
  {
   "cell_type": "code",
   "execution_count": 393,
   "id": "c8725f04",
   "metadata": {},
   "outputs": [
    {
     "data": {
      "text/plain": [
       "0.4428062"
      ]
     },
     "execution_count": 393,
     "metadata": {},
     "output_type": "execute_result"
    }
   ],
   "source": [
    "pred = mod.predict(basic_tex)\n",
    "mean_squared_error(pred, basic_tey)"
   ]
  }
 ],
 "metadata": {
  "kernelspec": {
   "display_name": "Python [conda env:RLenv] *",
   "language": "python",
   "name": "conda-env-RLenv-py"
  },
  "language_info": {
   "codemirror_mode": {
    "name": "ipython",
    "version": 3
   },
   "file_extension": ".py",
   "mimetype": "text/x-python",
   "name": "python",
   "nbconvert_exporter": "python",
   "pygments_lexer": "ipython3",
   "version": "3.10.6"
  }
 },
 "nbformat": 4,
 "nbformat_minor": 5
}
