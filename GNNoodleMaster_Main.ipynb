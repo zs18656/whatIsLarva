{
 "cells": [
  {
   "cell_type": "code",
   "execution_count": 542,
   "id": "7ca4eddb",
   "metadata": {},
   "outputs": [],
   "source": [
    "import pandas as pd\n",
    "import numpy as np\n",
    "import torch\n",
    "import torch.nn.functional as F\n",
    "from torch_geometric.nn import GCNConv\n",
    "from torch_geometric.data import DataLoader\n",
    "import random\n",
    "from tqdm import tqdm\n",
    "from sklearn.neural_network import MLPRegressor\n",
    "from sklearn.metrics import mean_squared_error\n",
    "import matplotlib.pyplot as plt"
   ]
  },
  {
   "cell_type": "code",
   "execution_count": 543,
   "id": "ccc1e242",
   "metadata": {},
   "outputs": [],
   "source": [
    "def split(a, n):\n",
    "    k, m = divmod(len(a), n)\n",
    "    return (a[i*k+min(i, m):(i+1)*k+min(i+1, m)] for i in range(n))"
   ]
  },
  {
   "cell_type": "code",
   "execution_count": 544,
   "id": "12edcb09",
   "metadata": {},
   "outputs": [
    {
     "name": "stdout",
     "output_type": "stream",
     "text": [
      "(3600, 4)\n"
     ]
    },
    {
     "data": {
      "text/html": [
       "<div>\n",
       "<style scoped>\n",
       "    .dataframe tbody tr th:only-of-type {\n",
       "        vertical-align: middle;\n",
       "    }\n",
       "\n",
       "    .dataframe tbody tr th {\n",
       "        vertical-align: top;\n",
       "    }\n",
       "\n",
       "    .dataframe thead th {\n",
       "        text-align: right;\n",
       "    }\n",
       "</style>\n",
       "<table border=\"1\" class=\"dataframe\">\n",
       "  <thead>\n",
       "    <tr style=\"text-align: right;\">\n",
       "      <th></th>\n",
       "      <th>Input nodes</th>\n",
       "      <th>Output nodes</th>\n",
       "      <th>Train MSE</th>\n",
       "      <th>Test MSE</th>\n",
       "    </tr>\n",
       "  </thead>\n",
       "  <tbody>\n",
       "    <tr>\n",
       "      <th>0</th>\n",
       "      <td>[2191 1457 1194 1113  130 1725  395 2300  535 ...</td>\n",
       "      <td>[ 303   41  939 2069  992  529 2731 1450 1333 ...</td>\n",
       "      <td>0.005877</td>\n",
       "      <td>0.483325</td>\n",
       "    </tr>\n",
       "    <tr>\n",
       "      <th>1</th>\n",
       "      <td>[2191 1457 1194 1113  130 1725  395 2300  535 ...</td>\n",
       "      <td>[ 562 2810 2338 2858 2546  454 2262 2617  125 ...</td>\n",
       "      <td>0.009230</td>\n",
       "      <td>0.560773</td>\n",
       "    </tr>\n",
       "    <tr>\n",
       "      <th>2</th>\n",
       "      <td>[2191 1457 1194 1113  130 1725  395 2300  535 ...</td>\n",
       "      <td>[ 414 1797 2200 1424  184 2150 2868 2660   92 ...</td>\n",
       "      <td>0.006478</td>\n",
       "      <td>0.419986</td>\n",
       "    </tr>\n",
       "  </tbody>\n",
       "</table>\n",
       "</div>"
      ],
      "text/plain": [
       "                                         Input nodes  \\\n",
       "0  [2191 1457 1194 1113  130 1725  395 2300  535 ...   \n",
       "1  [2191 1457 1194 1113  130 1725  395 2300  535 ...   \n",
       "2  [2191 1457 1194 1113  130 1725  395 2300  535 ...   \n",
       "\n",
       "                                        Output nodes  Train MSE  Test MSE  \n",
       "0  [ 303   41  939 2069  992  529 2731 1450 1333 ...   0.005877  0.483325  \n",
       "1  [ 562 2810 2338 2858 2546  454 2262 2617  125 ...   0.009230  0.560773  \n",
       "2  [ 414 1797 2200 1424  184 2150 2868 2660   92 ...   0.006478  0.419986  "
      ]
     },
     "execution_count": 544,
     "metadata": {},
     "output_type": "execute_result"
    }
   ],
   "source": [
    "df = pd.read_csv('GNN_data/initial_MLP_data2.csv').drop(columns = ['Unnamed: 0'])\n",
    "print(df.shape)\n",
    "df.head(3)"
   ]
  },
  {
   "cell_type": "code",
   "execution_count": 545,
   "id": "34b86030",
   "metadata": {},
   "outputs": [
    {
     "name": "stdout",
     "output_type": "stream",
     "text": [
      "(2952, 7)\n"
     ]
    },
    {
     "data": {
      "text/html": [
       "<div>\n",
       "<style scoped>\n",
       "    .dataframe tbody tr th:only-of-type {\n",
       "        vertical-align: middle;\n",
       "    }\n",
       "\n",
       "    .dataframe tbody tr th {\n",
       "        vertical-align: top;\n",
       "    }\n",
       "\n",
       "    .dataframe thead th {\n",
       "        text-align: right;\n",
       "    }\n",
       "</style>\n",
       "<table border=\"1\" class=\"dataframe\">\n",
       "  <thead>\n",
       "    <tr style=\"text-align: right;\">\n",
       "      <th></th>\n",
       "      <th>Community ID</th>\n",
       "      <th>Degree</th>\n",
       "      <th>Betweeness</th>\n",
       "      <th>Eigenvector</th>\n",
       "      <th>Laplacian</th>\n",
       "      <th>Harmonic</th>\n",
       "      <th>Load</th>\n",
       "    </tr>\n",
       "  </thead>\n",
       "  <tbody>\n",
       "    <tr>\n",
       "      <th>0</th>\n",
       "      <td>7</td>\n",
       "      <td>0.439516</td>\n",
       "      <td>0.012961</td>\n",
       "      <td>0.566034</td>\n",
       "      <td>0.355070</td>\n",
       "      <td>0.757463</td>\n",
       "      <td>0.010790</td>\n",
       "    </tr>\n",
       "    <tr>\n",
       "      <th>1</th>\n",
       "      <td>7</td>\n",
       "      <td>0.447581</td>\n",
       "      <td>0.010856</td>\n",
       "      <td>0.591562</td>\n",
       "      <td>0.367336</td>\n",
       "      <td>0.746456</td>\n",
       "      <td>0.009723</td>\n",
       "    </tr>\n",
       "    <tr>\n",
       "      <th>2</th>\n",
       "      <td>7</td>\n",
       "      <td>0.423387</td>\n",
       "      <td>0.049285</td>\n",
       "      <td>0.372795</td>\n",
       "      <td>0.307128</td>\n",
       "      <td>0.786978</td>\n",
       "      <td>0.049708</td>\n",
       "    </tr>\n",
       "  </tbody>\n",
       "</table>\n",
       "</div>"
      ],
      "text/plain": [
       "   Community ID    Degree  Betweeness  Eigenvector  Laplacian  Harmonic  \\\n",
       "0             7  0.439516    0.012961     0.566034   0.355070  0.757463   \n",
       "1             7  0.447581    0.010856     0.591562   0.367336  0.746456   \n",
       "2             7  0.423387    0.049285     0.372795   0.307128  0.786978   \n",
       "\n",
       "       Load  \n",
       "0  0.010790  \n",
       "1  0.009723  \n",
       "2  0.049708  "
      ]
     },
     "execution_count": 545,
     "metadata": {},
     "output_type": "execute_result"
    }
   ],
   "source": [
    "df_node_feats = pd.read_csv('Node_Features.csv').drop(columns = ['Node ID'])\n",
    "print(df_node_feats.shape)\n",
    "cols_to_norm = df_node_feats.columns[1:]\n",
    "df_node_feats[cols_to_norm] = df_node_feats[cols_to_norm].apply(lambda x: (x - x.min()) / (x.max() - x.min()))\n",
    "df_node_feats.head(3)"
   ]
  },
  {
   "cell_type": "code",
   "execution_count": 546,
   "id": "13522b6b",
   "metadata": {},
   "outputs": [
    {
     "name": "stdout",
     "output_type": "stream",
     "text": [
      "fly density:  0.012638989872283547\n"
     ]
    }
   ],
   "source": [
    "fly_mat = pd.read_csv('science.add9330_data_s1_to_s4/Supplementary-Data-S1/all-all_connectivity_matrix.csv').drop(columns=['Unnamed: 0'])\n",
    "fly_mat = fly_mat.to_numpy()\n",
    "fly_weights = pd.read_csv('GNN_data/Wx_initial_MLP_data.csv').drop(columns=['Unnamed: 0'])\n",
    "fly_weights = fly_weights.to_numpy()\n",
    "\n",
    "# Convert fly matrix into binary adjacency matrix\n",
    "fly_mat[fly_mat > 0] = 1\n",
    "fly_mat[fly_mat != 1] = 0\n",
    "fly_mat[np.identity(fly_mat.shape[0], dtype=bool)] = 0.\n",
    "fly_graph = fly_mat\n",
    "print('fly density: ', np.sum(fly_mat.reshape(-1))/(fly_mat.shape[0]*fly_mat.shape[1]))"
   ]
  },
  {
   "cell_type": "code",
   "execution_count": 547,
   "id": "d078eaf5",
   "metadata": {
    "scrolled": false
   },
   "outputs": [
    {
     "name": "stderr",
     "output_type": "stream",
     "text": [
      "/opt/anaconda3/envs/RLenv/lib/python3.10/site-packages/torch/nn/modules/loss.py:536: UserWarning: Using a target size (torch.Size([1, 1])) that is different to the input size (torch.Size([1])). This will likely lead to incorrect results due to broadcasting. Please ensure they have the same size.\n",
      "  return F.mse_loss(input, target, reduction=self.reduction)\n"
     ]
    },
    {
     "name": "stdout",
     "output_type": "stream",
     "text": [
      "Epoch 1: Average Loss: 1.3273\n",
      "Epoch 2: Average Loss: 0.8779\n",
      "Epoch 3: Average Loss: 0.4196\n",
      "Epoch 4: Average Loss: 0.1027\n",
      "Epoch 5: Average Loss: 0.0370\n",
      "Epoch 6: Average Loss: 0.1890\n",
      "Epoch 7: Average Loss: 0.3543\n",
      "Epoch 8: Average Loss: 0.0997\n",
      "Epoch 9: Average Loss: 0.0598\n",
      "Epoch 10: Average Loss: 0.0533\n"
     ]
    }
   ],
   "source": [
    "# Create a dummy graph dataset\n",
    "# Replace with your own dataset loading and preprocessing code\n",
    "def create_dummy_dataset(num_graphs, N_nodes, N_features):\n",
    "    dataset = []\n",
    "    for _ in range(num_graphs):\n",
    "        x = torch.randn(N_nodes, N_features)  # Node features\n",
    "        y = torch.randn(1, 1)  # Target value (per graph)\n",
    "        # Create Data object and add it to the dataset\n",
    "        graph_data = (x,y)\n",
    "        dataset.append(graph_data)\n",
    "    return dataset\n",
    "def getGNNedData(df, nodeid_features_nparr):\n",
    "    data = []\n",
    "    for row in range(df.shape[0]):\n",
    "        ins = [int(x) for x in df['Input nodes'].iloc[i].replace(\"[\", \"\").replace(\"]\", \"\").split()]\n",
    "        outs = [int(x) for x in df['Output nodes'].iloc[i].replace(\"[\", \"\").replace(\"]\", \"\").split()]\n",
    "        perf = torch.Tensor(df['Test MSE'].to_numpy())[row].reshape([1])\n",
    "        graph_i_nfeats = np.zeros((fly_mat.shape[0], 2 + nodeid_features_nparr.shape[1] ))\n",
    "        graph_i_nfeats[ins, 0] = 1\n",
    "        graph_i_nfeats[outs, 1] = 1\n",
    "        graph_i_nfeats[:, 2:] = nodeid_features_nparr\n",
    "        data.append([torch.Tensor(graph_i_nfeats), perf])\n",
    "    return data\n",
    "def weight_matrix_to_edge_lists(adj_matrix):\n",
    "    num_nodes = adj_matrix.shape[0]\n",
    "    edge_list = [[],[]]\n",
    "    weight_list = []\n",
    "    for i in range(num_nodes):\n",
    "        for j in range(num_nodes):\n",
    "            if adj_matrix[i][j] != 0:\n",
    "                edge_list[0].append(i)\n",
    "                edge_list[1].append(j)\n",
    "                weight_list.append(adj_matrix[i, j])\n",
    "\n",
    "    return edge_list, weight_list\n",
    "# Define the GCN model\n",
    "class GCN(torch.nn.Module):\n",
    "    def __init__(self, input_dim, hidden_dim, N_nodes, edge_index, edge_weight):\n",
    "        super(GCN, self).__init__()\n",
    "        self.conv1 = GCNConv(input_dim, hidden_dim)\n",
    "        self.conv2 = GCNConv(hidden_dim, hidden_dim)\n",
    "        self.fc1 = torch.nn.Linear(hidden_dim, 1)\n",
    "        self.fc2 = torch.nn.Linear(N_nodes, 1)\n",
    "        self.edge_index = edge_index\n",
    "        self.edge_weight = edge_weight\n",
    "\n",
    "    def forward(self, x):\n",
    "#         print(x.shape)\n",
    "        x = self.conv1(x, self.edge_index, self.edge_weight)\n",
    "        x = F.relu(x)\n",
    "#         print(x.shape)\n",
    "        x = self.conv2(x, self.edge_index, self.edge_weight)\n",
    "        x = F.relu(x)\n",
    "#         print(x.shape)\n",
    "        x = self.fc1(x) # could use global pooling here? but because topology doesnt change, maybe fc can work\n",
    "#         print(x.shape)\n",
    "        x = self.fc2(x.flatten())\n",
    "#         print(x.shape)\n",
    "#         assert False\n",
    "        return x\n",
    "\n",
    "# Create dummy dataset\n",
    "N_nodes, N_feats = 12, 16\n",
    "data = create_dummy_dataset(20, N_nodes, N_feats)\n",
    "\n",
    "edge_index = torch.tensor([[0, 0, 0, 3, 3, 1, 2, 3, 4, 1],\n",
    "                           [1, 2, 3, 4, 5, 6, 7, 8, 9, 0]], dtype=torch.long)  # Adjacency matrix\n",
    "edge_weight = abs(torch.randn(edge_index.shape[1]))  # Edge weights\n",
    "\n",
    "\n",
    "# Set random seed for reproducibility\n",
    "torch.manual_seed(42)\n",
    "# Create GCN model\n",
    "model = GCN(input_dim=N_feats, hidden_dim=32, N_nodes=N_nodes, edge_index=edge_index, edge_weight=edge_weight)\n",
    "# Define loss function and optimizer\n",
    "criterion = torch.nn.MSELoss()\n",
    "optimizer = torch.optim.Adam(model.parameters(), lr=0.01)\n",
    "\n",
    "# Training loop\n",
    "model.train()\n",
    "for epoch in range(10):\n",
    "    total_loss = 0\n",
    "    for datum in data:\n",
    "        optimizer.zero_grad()\n",
    "        output = model(datum[0])\n",
    "        loss = criterion(output, datum[1])\n",
    "        loss.backward()\n",
    "        optimizer.step()\n",
    "        total_loss += loss.item()\n",
    "    avg_loss = total_loss / len(data)\n",
    "    print(f\"Epoch {epoch+1}: Average Loss: {avg_loss:.4f}\")\n",
    "# model.eval()"
   ]
  },
  {
   "cell_type": "code",
   "execution_count": 548,
   "id": "2bd6162e",
   "metadata": {
    "scrolled": true
   },
   "outputs": [],
   "source": [
    "edge_index_fly, edge_weight_fly = weight_matrix_to_edge_lists(fly_mat)\n",
    "edge_index_fly, edge_weight_fly = torch.tensor(edge_index_fly, dtype=torch.long), torch.Tensor(edge_weight_fly)\n",
    "\n",
    "data2 = getGNNedData(df, df_node_feats.drop(columns = ['Community ID']))"
   ]
  },
  {
   "cell_type": "code",
   "execution_count": 549,
   "id": "65090960",
   "metadata": {},
   "outputs": [
    {
     "data": {
      "text/plain": [
       "torch.Size([2952, 8])"
      ]
     },
     "execution_count": 549,
     "metadata": {},
     "output_type": "execute_result"
    }
   ],
   "source": [
    "data2 = random.sample(data2, len(data2))\n",
    "N_tr, N_te  = 50, 10\n",
    "assert N_tr + N_te < len(data2)\n",
    "data_tr, data_te, data_superte = data2[:N_tr], data2[N_tr:N_tr + N_te], data2[N_tr + N_te:]\n",
    "data_tr[0][0].shape"
   ]
  },
  {
   "cell_type": "code",
   "execution_count": 557,
   "id": "687af412",
   "metadata": {},
   "outputs": [
    {
     "data": {
      "text/plain": [
       "tensor([0.3346])"
      ]
     },
     "execution_count": 557,
     "metadata": {},
     "output_type": "execute_result"
    }
   ],
   "source": [
    "data_tr[0][1]"
   ]
  },
  {
   "cell_type": "code",
   "execution_count": 561,
   "id": "a349e238",
   "metadata": {},
   "outputs": [
    {
     "data": {
      "text/plain": [
       "tensor([0.0000, 0.0000, 0.4395, 0.0130, 0.5660, 0.3551, 0.7575, 0.0108])"
      ]
     },
     "execution_count": 561,
     "metadata": {},
     "output_type": "execute_result"
    }
   ],
   "source": [
    "data_tr[0][0][0]"
   ]
  },
  {
   "cell_type": "code",
   "execution_count": 536,
   "id": "ed6eb584",
   "metadata": {
    "scrolled": true
   },
   "outputs": [
    {
     "name": "stderr",
     "output_type": "stream",
     "text": [
      "100%|███████████████████████████████████████████| 50/50 [00:19<00:00,  2.59it/s]\n"
     ]
    },
    {
     "name": "stdout",
     "output_type": "stream",
     "text": [
      "Epoch 1: Average train Loss: 0.2281\n"
     ]
    },
    {
     "name": "stderr",
     "output_type": "stream",
     "text": [
      "100%|███████████████████████████████████████████| 50/50 [00:17<00:00,  2.86it/s]\n"
     ]
    },
    {
     "name": "stdout",
     "output_type": "stream",
     "text": [
      "Epoch 2: Average train Loss: 468.8885\n"
     ]
    },
    {
     "name": "stderr",
     "output_type": "stream",
     "text": [
      "100%|███████████████████████████████████████████| 50/50 [00:17<00:00,  2.85it/s]\n"
     ]
    },
    {
     "name": "stdout",
     "output_type": "stream",
     "text": [
      "Epoch 3: Average train Loss: 5.7547\n"
     ]
    },
    {
     "name": "stderr",
     "output_type": "stream",
     "text": [
      "100%|███████████████████████████████████████████| 50/50 [00:18<00:00,  2.77it/s]\n"
     ]
    },
    {
     "name": "stdout",
     "output_type": "stream",
     "text": [
      "Epoch 4: Average train Loss: 15.4602\n"
     ]
    },
    {
     "name": "stderr",
     "output_type": "stream",
     "text": [
      "100%|███████████████████████████████████████████| 50/50 [00:19<00:00,  2.62it/s]\n"
     ]
    },
    {
     "name": "stdout",
     "output_type": "stream",
     "text": [
      "Epoch 5: Average train Loss: 73.8445\n"
     ]
    },
    {
     "name": "stderr",
     "output_type": "stream",
     "text": [
      "100%|███████████████████████████████████████████| 50/50 [00:18<00:00,  2.72it/s]\n"
     ]
    },
    {
     "name": "stdout",
     "output_type": "stream",
     "text": [
      "Epoch 6: Average train Loss: 35.4141\n"
     ]
    },
    {
     "name": "stderr",
     "output_type": "stream",
     "text": [
      "100%|███████████████████████████████████████████| 50/50 [00:17<00:00,  2.84it/s]\n"
     ]
    },
    {
     "name": "stdout",
     "output_type": "stream",
     "text": [
      "Epoch 7: Average train Loss: 0.3427\n"
     ]
    },
    {
     "name": "stderr",
     "output_type": "stream",
     "text": [
      "100%|███████████████████████████████████████████| 50/50 [00:17<00:00,  2.80it/s]\n"
     ]
    },
    {
     "name": "stdout",
     "output_type": "stream",
     "text": [
      "Epoch 8: Average train Loss: 27.4467\n"
     ]
    },
    {
     "name": "stderr",
     "output_type": "stream",
     "text": [
      "100%|███████████████████████████████████████████| 50/50 [00:17<00:00,  2.81it/s]\n"
     ]
    },
    {
     "name": "stdout",
     "output_type": "stream",
     "text": [
      "Epoch 9: Average train Loss: 13.6206\n"
     ]
    },
    {
     "name": "stderr",
     "output_type": "stream",
     "text": [
      "100%|███████████████████████████████████████████| 50/50 [00:17<00:00,  2.83it/s]\n"
     ]
    },
    {
     "name": "stdout",
     "output_type": "stream",
     "text": [
      "Epoch 10: Average train Loss: 0.8446\n"
     ]
    },
    {
     "name": "stderr",
     "output_type": "stream",
     "text": [
      "100%|███████████████████████████████████████████| 50/50 [00:17<00:00,  2.85it/s]\n"
     ]
    },
    {
     "name": "stdout",
     "output_type": "stream",
     "text": [
      "Epoch 11: Average train Loss: 1.7986\n"
     ]
    },
    {
     "name": "stderr",
     "output_type": "stream",
     "text": [
      "100%|███████████████████████████████████████████| 50/50 [00:24<00:00,  2.02it/s]\n"
     ]
    },
    {
     "name": "stdout",
     "output_type": "stream",
     "text": [
      "Epoch 12: Average train Loss: 5.9283\n"
     ]
    },
    {
     "name": "stderr",
     "output_type": "stream",
     "text": [
      "100%|███████████████████████████████████████████| 50/50 [00:18<00:00,  2.66it/s]\n"
     ]
    },
    {
     "name": "stdout",
     "output_type": "stream",
     "text": [
      "Epoch 13: Average train Loss: 7.0888\n"
     ]
    },
    {
     "name": "stderr",
     "output_type": "stream",
     "text": [
      "100%|███████████████████████████████████████████| 50/50 [00:18<00:00,  2.74it/s]\n"
     ]
    },
    {
     "name": "stdout",
     "output_type": "stream",
     "text": [
      "Epoch 14: Average train Loss: 5.1571\n"
     ]
    },
    {
     "name": "stderr",
     "output_type": "stream",
     "text": [
      "100%|███████████████████████████████████████████| 50/50 [00:17<00:00,  2.78it/s]\n"
     ]
    },
    {
     "name": "stdout",
     "output_type": "stream",
     "text": [
      "Epoch 15: Average train Loss: 2.2008\n"
     ]
    },
    {
     "name": "stderr",
     "output_type": "stream",
     "text": [
      "100%|███████████████████████████████████████████| 50/50 [00:17<00:00,  2.79it/s]\n"
     ]
    },
    {
     "name": "stdout",
     "output_type": "stream",
     "text": [
      "Epoch 16: Average train Loss: 0.2574\n"
     ]
    },
    {
     "name": "stderr",
     "output_type": "stream",
     "text": [
      "100%|███████████████████████████████████████████| 50/50 [00:17<00:00,  2.78it/s]\n"
     ]
    },
    {
     "name": "stdout",
     "output_type": "stream",
     "text": [
      "Epoch 17: Average train Loss: 0.3271\n"
     ]
    },
    {
     "name": "stderr",
     "output_type": "stream",
     "text": [
      "100%|███████████████████████████████████████████| 50/50 [00:17<00:00,  2.82it/s]\n"
     ]
    },
    {
     "name": "stdout",
     "output_type": "stream",
     "text": [
      "Epoch 18: Average train Loss: 1.7267\n"
     ]
    },
    {
     "name": "stderr",
     "output_type": "stream",
     "text": [
      "100%|███████████████████████████████████████████| 50/50 [00:18<00:00,  2.76it/s]\n"
     ]
    },
    {
     "name": "stdout",
     "output_type": "stream",
     "text": [
      "Epoch 19: Average train Loss: 2.5682\n"
     ]
    },
    {
     "name": "stderr",
     "output_type": "stream",
     "text": [
      "100%|███████████████████████████████████████████| 50/50 [00:17<00:00,  2.80it/s]\n"
     ]
    },
    {
     "name": "stdout",
     "output_type": "stream",
     "text": [
      "Epoch 20: Average train Loss: 2.1994\n"
     ]
    }
   ],
   "source": [
    "N_nodes=data_tr[0][0].shape[0]\n",
    "N_feats=data_tr[0][0].shape[1]\n",
    "model = GCN(input_dim=N_feats, hidden_dim=fly_mat.shape[0]//5, N_nodes = N_nodes, \n",
    "            edge_index=edge_index_fly, edge_weight=edge_weight_fly)\n",
    "criterion = torch.nn.MSELoss()\n",
    "optimizer = torch.optim.Adam(model.parameters(), lr=0.01)\n",
    "\n",
    "losses_tr, losses_te = [], []\n",
    "training_preds, training_trues = [], []\n",
    "for epoch in range(20):\n",
    "    # Training loop\n",
    "    model.train()\n",
    "    with torch.enable_grad():\n",
    "        total_loss = 0\n",
    "        optimizer.zero_grad()\n",
    "        for datum in tqdm(data_tr):\n",
    "            output = model(datum[0])\n",
    "            loss = criterion(output, datum[1])\n",
    "            total_loss += loss\n",
    "            training_preds.append(output)\n",
    "            training_trues.append(datum[1])\n",
    "        total_loss.backward()\n",
    "        optimizer.step()\n",
    "        avg_loss = total_loss.item() / len(data_tr)\n",
    "        print(f\"Epoch {epoch+1}: Average train Loss: {avg_loss:.4f}\")\n",
    "        losses_tr.append(avg_loss)\n",
    "    \n",
    "#     model.eval()\n",
    "#     with torch.no_grad():\n",
    "#         total_loss = 0\n",
    "#         for datum in data_te:\n",
    "#             output = model(datum[0])\n",
    "#             loss = criterion(output, datum[1])\n",
    "#             total_loss += loss.item()\n",
    "#             testing_preds.append(output)\n",
    "#         avg_loss = total_loss / len(data_te)\n",
    "#         print(f\"Epoch {epoch+1}: Average test Loss: {avg_loss:.4f}\")\n",
    "#         losses_te.append(avg_loss)"
   ]
  },
  {
   "cell_type": "code",
   "execution_count": 537,
   "id": "50237d9c",
   "metadata": {},
   "outputs": [
    {
     "name": "stdout",
     "output_type": "stream",
     "text": [
      "Epoch 20: Average test Loss: 1.3231\n"
     ]
    }
   ],
   "source": [
    "model.eval()\n",
    "N_super = 100\n",
    "with torch.no_grad():\n",
    "    total_loss = 0\n",
    "    for datum in data_superte[:N_super]:\n",
    "        output = model(datum[0])\n",
    "        loss = criterion(output, datum[1])\n",
    "        total_loss += loss.item()\n",
    "    avg_loss_super = total_loss / N_super\n",
    "    print(f\"Epoch {epoch+1}: Average test Loss: {avg_loss_super:.4f}\")"
   ]
  },
  {
   "cell_type": "code",
   "execution_count": 538,
   "id": "1f799639",
   "metadata": {},
   "outputs": [],
   "source": [
    "a = list(split(training_preds, 20))\n",
    "b = list(split(training_trues, 20))"
   ]
  },
  {
   "cell_type": "code",
   "execution_count": 539,
   "id": "c10dd14b",
   "metadata": {},
   "outputs": [
    {
     "data": {
      "text/plain": [
       "<matplotlib.legend.Legend at 0x7f9c47f2ec20>"
      ]
     },
     "execution_count": 539,
     "metadata": {},
     "output_type": "execute_result"
    },
    {
     "data": {
      "image/png": "[encoded data removed]",
      "text/plain": [
       "<Figure size 1000x600 with 2 Axes>"
      ]
     },
     "metadata": {},
     "output_type": "display_data"
    }
   ],
   "source": [
    "fig, ax = plt.subplots(ncols = 2, figsize = (10, 6))\n",
    "\n",
    "ax[0].plot(losses_tr, label = 'train')\n",
    "ax[0].plot(avg_loss_super*np.ones(len(losses_tr)), label = 'test')\n",
    "\n",
    "ax[1].plot([torch.mean(torch.Tensor(x)) for x in a], label = 'mean epoch value')\n",
    "ax[1].plot([torch.std(torch.Tensor(x)) for x in a], label = 'std epoch value', linestyle = ':')\n",
    "\n",
    "ax[1].plot([torch.mean(torch.Tensor(x)) for x in b], label = 'mean data value')\n",
    "ax[1].plot([torch.std(torch.Tensor(x)) for x in b], label = 'std data value', linestyle = ':')\n",
    "\n",
    "ax[0].set_ylim([None, 5])\n",
    "ax[0].legend()\n",
    "ax[1].legend()"
   ]
  },
  {
   "cell_type": "code",
   "execution_count": 459,
   "id": "6df5fef2",
   "metadata": {},
   "outputs": [],
   "source": []
  },
  {
   "cell_type": "code",
   "execution_count": 365,
   "id": "ec618b06",
   "metadata": {},
   "outputs": [
    {
     "name": "stdout",
     "output_type": "stream",
     "text": [
      "Epoch 100: Average test Loss: 0.0567\n"
     ]
    }
   ],
   "source": [
    "model.eval()\n",
    "N_super = 100\n",
    "with torch.no_grad():\n",
    "    total_loss = 0\n",
    "    for datum in data_superte[:N_super]:\n",
    "        output = model(datum[0])\n",
    "        loss = criterion(output, datum[1])\n",
    "        total_loss += loss.item()\n",
    "    avg_loss = total_loss / N_super\n",
    "    print(f\"Epoch {epoch+1}: Average test Loss: {avg_loss:.4f}\")"
   ]
  },
  {
   "cell_type": "code",
   "execution_count": 436,
   "id": "2ca1780e",
   "metadata": {
    "scrolled": true
   },
   "outputs": [
    {
     "name": "stdout",
     "output_type": "stream",
     "text": [
      "tensor([0.4950])\n",
      "tensor([0.4950])\n",
      "tensor([0.4950])\n",
      "tensor([0.4950])\n",
      "tensor([0.4950])\n",
      "tensor([0.4950])\n",
      "tensor([0.4950])\n",
      "tensor([0.4950])\n",
      "tensor([0.4950])\n",
      "tensor([0.4950])\n"
     ]
    }
   ],
   "source": [
    "model.eval()\n",
    "N_super = 10\n",
    "with torch.no_grad():\n",
    "    for datum in data_superte[:N_super]:\n",
    "        output = model(datum[0])\n",
    "        print(output)"
   ]
  },
  {
   "cell_type": "code",
   "execution_count": 401,
   "id": "f6e2781f",
   "metadata": {},
   "outputs": [
    {
     "name": "stderr",
     "output_type": "stream",
     "text": [
      "100%|███████████████████████████████████████████| 20/20 [07:21<00:00, 22.07s/it]\n"
     ]
    },
    {
     "data": {
      "text/plain": [
       "[<matplotlib.lines.Line2D at 0x7f9c4207f160>]"
      ]
     },
     "execution_count": 401,
     "metadata": {},
     "output_type": "execute_result"
    },
    {
     "data": {
      "image/png": "[encoded data removed]",
      "text/plain": [
       "<Figure size 640x480 with 1 Axes>"
      ]
     },
     "metadata": {},
     "output_type": "display_data"
    }
   ],
   "source": [
    "data2 = random.sample(data2, len(data2))\n",
    "e1,e2 = [], []\n",
    "for N_tr in tqdm(range(1000, 3000, 100)):\n",
    "    N_tr, N_te  = N_tr, 500\n",
    "    assert N_tr + N_te < len(data2)\n",
    "    data_tr, data_te, data_superte = data2[:N_tr], data2[N_tr:N_tr + N_te], data2[N_tr + N_te:]\n",
    "    data_tr[0][0].shape\n",
    "    basic_trx, basic_try = np.array([x[0].numpy().reshape(-1) for x in data_tr]), np.array([x[1].numpy() for x in data_tr]).reshape(-1)\n",
    "    basic_tex, basic_tey = np.array([x[0].numpy().reshape(-1) for x in data_te]), np.array([x[1].numpy() for x in data_te]).reshape(-1)\n",
    "\n",
    "    mod = MLPRegressor()\n",
    "    mod.fit(basic_trx, basic_try)\n",
    "    \n",
    "    pred = mod.predict(basic_trx)\n",
    "    e1.append(mean_squared_error(pred, basic_try))\n",
    "    pred = mod.predict(basic_tex)\n",
    "    e2.append(mean_squared_error(pred, basic_tey))\n",
    "\n",
    "plt.plot(e1)\n",
    "plt.plot(e2)"
   ]
  },
  {
   "cell_type": "code",
   "execution_count": 407,
   "id": "1ae8b0da",
   "metadata": {},
   "outputs": [
    {
     "data": {
      "text/plain": [
       "0.041486613895139815"
      ]
     },
     "execution_count": 407,
     "metadata": {},
     "output_type": "execute_result"
    }
   ],
   "source": [
    "mean_squared_error(np.mean(df['Test MSE'])*np.ones(len(df)), df['Test MSE'])\n"
   ]
  },
  {
   "cell_type": "code",
   "execution_count": 393,
   "id": "9ee81865",
   "metadata": {
    "scrolled": true
   },
   "outputs": [
    {
     "data": {
      "text/plain": [
       "0.4428062"
      ]
     },
     "execution_count": 393,
     "metadata": {},
     "output_type": "execute_result"
    }
   ],
   "source": [
    "pred = mod.predict(basic_tex)\n",
    "mean_squared_error(pred, basic_tey)"
   ]
  }
 ],
 "metadata": {
  "kernelspec": {
   "display_name": "Python [conda env:RLenv] *",
   "language": "python",
   "name": "conda-env-RLenv-py"
  },
  "language_info": {
   "codemirror_mode": {
    "name": "ipython",
    "version": 3
   },
   "file_extension": ".py",
   "mimetype": "text/x-python",
   "name": "python",
   "nbconvert_exporter": "python",
   "pygments_lexer": "ipython3",
   "version": "3.10.6"
  }
 },
 "nbformat": 4,
 "nbformat_minor": 5
}
